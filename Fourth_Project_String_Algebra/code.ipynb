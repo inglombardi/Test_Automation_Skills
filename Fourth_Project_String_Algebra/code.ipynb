{
 "cells": [
  {
   "cell_type": "code",
   "execution_count": 1,
   "id": "605a7c81",
   "metadata": {},
   "outputs": [],
   "source": [
    "def integer_concatenation(integer_buffer) -> int:\n",
    "    # l = [1, 0] in l = [10] before 'plus' or others\n",
    "    return int(\"\".join(map(str, integer_buffer)))"
   ]
  },
  {
   "cell_type": "code",
   "execution_count": 2,
   "id": "ccf4d03e",
   "metadata": {},
   "outputs": [],
   "source": [
    "l = [1, 0]"
   ]
  },
  {
   "cell_type": "code",
   "execution_count": 3,
   "id": "7b3f5818",
   "metadata": {},
   "outputs": [
    {
     "data": {
      "text/plain": [
       "10"
      ]
     },
     "execution_count": 3,
     "metadata": {},
     "output_type": "execute_result"
    }
   ],
   "source": [
    "integer_concatenation(integer_buffer=l)"
   ]
  },
  {
   "cell_type": "code",
   "execution_count": null,
   "id": "38437138",
   "metadata": {},
   "outputs": [],
   "source": []
  }
 ],
 "metadata": {
  "kernelspec": {
   "display_name": "Python 3 (ipykernel)",
   "language": "python",
   "name": "python3"
  },
  "language_info": {
   "codemirror_mode": {
    "name": "ipython",
    "version": 3
   },
   "file_extension": ".py",
   "mimetype": "text/x-python",
   "name": "python",
   "nbconvert_exporter": "python",
   "pygments_lexer": "ipython3",
   "version": "3.9.7"
  }
 },
 "nbformat": 4,
 "nbformat_minor": 5
}
